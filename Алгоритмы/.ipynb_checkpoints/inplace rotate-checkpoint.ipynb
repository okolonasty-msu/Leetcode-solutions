{
 "cells": [
  {
   "cell_type": "code",
   "execution_count": 30,
   "metadata": {},
   "outputs": [
    {
     "data": {
      "text/plain": [
       "'\\n  Вызвать к-й элемент массива памяти О(1)\\n  сколько стоит сделать срез массива?\\n  сделать два новых массива\\n  длины k и n-k O(n) доп памяти\\n  записать в каждый k и n-k элементов видимо тоже за O(n)\\n'"
      ]
     },
     "execution_count": 30,
     "metadata": {},
     "output_type": "execute_result"
    }
   ],
   "source": [
    "def inplace_rotate(array,k):\n",
    "    new_array = array[k+1:] + array[:k]\n",
    "    return new_array\n",
    "\n",
    "'''\n",
    "  Вызвать к-й элемент массива памяти О(1)\n",
    "  сколько стоит сделать срез массива?\n",
    "  сделать два новых массива\n",
    "  длины k и n-k O(n) доп памяти\n",
    "  записать в каждый k и n-k элементов видимо тоже за O(n)\n",
    "'''"
   ]
  },
  {
   "cell_type": "code",
   "execution_count": 39,
   "metadata": {},
   "outputs": [],
   "source": [
    "#Оптимизировать, чтобы не использовать доп памяти\n",
    "#сколько стоит переместить элемент в конец массива?\n",
    "def inplace_rotate(array,k):\n",
    "    lenth = k\n",
    "    while lenth >=0: # k шагов (N in worthst case)\n",
    "        #tmp = array[0] , O(1) \n",
    "        array.append(array.pop(0)) # O(1) - time\n",
    "        lenth -=1 # O(1) - time\n",
    "    return array\n",
    "\n",
    "#почему памяти O(1)? мы создаем две вспомогательные переменные, не зависимо от длины входящего массива"
   ]
  },
  {
   "cell_type": "code",
   "execution_count": 40,
   "metadata": {},
   "outputs": [
    {
     "data": {
      "text/plain": [
       "[1, 2, 4, 8, 16, 32, 64, 128, 256, 512]"
      ]
     },
     "execution_count": 40,
     "metadata": {},
     "output_type": "execute_result"
    }
   ],
   "source": [
    "a = [2**i for i in range(10)]\n",
    "a"
   ]
  },
  {
   "cell_type": "code",
   "execution_count": 41,
   "metadata": {},
   "outputs": [
    {
     "data": {
      "text/plain": [
       "[16, 32, 64, 128, 256, 512, 1, 2, 4, 8]"
      ]
     },
     "execution_count": 41,
     "metadata": {},
     "output_type": "execute_result"
    }
   ],
   "source": [
    "\n",
    "inplace_rotate(a, 3)"
   ]
  },
  {
   "cell_type": "code",
   "execution_count": null,
   "metadata": {},
   "outputs": [],
   "source": []
  }
 ],
 "metadata": {
  "kernelspec": {
   "display_name": "Python 3",
   "language": "python",
   "name": "python3"
  },
  "language_info": {
   "codemirror_mode": {
    "name": "ipython",
    "version": 3
   },
   "file_extension": ".py",
   "mimetype": "text/x-python",
   "name": "python",
   "nbconvert_exporter": "python",
   "pygments_lexer": "ipython3",
   "version": "3.7.4"
  }
 },
 "nbformat": 4,
 "nbformat_minor": 2
}
