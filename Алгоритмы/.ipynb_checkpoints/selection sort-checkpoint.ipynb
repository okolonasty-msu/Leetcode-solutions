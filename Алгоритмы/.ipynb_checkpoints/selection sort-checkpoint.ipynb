{
 "cells": [
  {
   "cell_type": "code",
   "execution_count": 36,
   "metadata": {},
   "outputs": [],
   "source": [
    "def find_min(array):\n",
    "    min_elem = array[0] # const time | + 1 доп памяти\n",
    "    for i in array: # n times\n",
    "        if i < min_elem: # const time\n",
    "            min_elem = i # const time\n",
    "    return min_elem\n",
    "# find min: c + n*c*c = O(n)\n",
    "\n",
    "def sel_sort(array):\n",
    "    sorted_array = [] # const time | + 1 доп памяти\n",
    "    for i in range(len(array)): # n times\n",
    "        min_elem = find_min(array) # const time присв * O(n) find min\n",
    "        sorted_array.append(array.pop(array.index(min_elem))) # const time\n",
    "    return sorted_array\n",
    "# selection sort time: c + n * (c * n + c) = c + n * (c+1)*n = O(n^2)\n",
    "'''\n",
    "Во всех случаях функция мин отрабатывает за O(n), \n",
    "да и цикл в sel_sort всегда запускается и отрабатывает пока из массива, \n",
    "не удалятся все элементы, поэтому в лучшем, худшем и среднем случае - O(n^2),\n",
    "''' "
   ]
  },
  {
   "cell_type": "code",
   "execution_count": 43,
   "metadata": {},
   "outputs": [
    {
     "data": {
      "text/plain": [
       "[-99, 0, 0, 1, 2, 3, 23, 94]"
      ]
     },
     "execution_count": 43,
     "metadata": {},
     "output_type": "execute_result"
    }
   ],
   "source": [
    "ar = [2,1,3, -99,0,94,0,23]\n",
    "sel_sort(ar)"
   ]
  },
  {
   "cell_type": "code",
   "execution_count": null,
   "metadata": {},
   "outputs": [],
   "source": []
  }
 ],
 "metadata": {
  "kernelspec": {
   "display_name": "Python 3",
   "language": "python",
   "name": "python3"
  },
  "language_info": {
   "codemirror_mode": {
    "name": "ipython",
    "version": 3
   },
   "file_extension": ".py",
   "mimetype": "text/x-python",
   "name": "python",
   "nbconvert_exporter": "python",
   "pygments_lexer": "ipython3",
   "version": "3.7.4"
  }
 },
 "nbformat": 4,
 "nbformat_minor": 2
}
