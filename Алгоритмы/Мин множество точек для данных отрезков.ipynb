{
 "cells": [
  {
   "cell_type": "markdown",
   "metadata": {},
   "source": [
    "По данным nn отрезкам необходимо найти множество точек минимального размера, для которого каждый из отрезков содержит хотя бы одну из точек.\n",
    "\n",
    "В первой строке дано число 1 \\le n \\le 1001≤n≤100 отрезков. Каждая из последующих nn строк содержит по два числа 0 \\le l \\le r \\le 10^90≤l≤r≤10 \n",
    "9\n",
    " , задающих начало и конец отрезка. Выведите оптимальное число mm точек и сами mm точек. Если таких множеств точек несколько, выведите любое из них."
   ]
  },
  {
   "cell_type": "code",
   "execution_count": 34,
   "metadata": {},
   "outputs": [
    {
     "name": "stdout",
     "output_type": "stream",
     "text": [
      "4\n",
      "4 7\n",
      "1 3\n",
      "2 5\n",
      "5 6\n"
     ]
    }
   ],
   "source": [
    "n = int(input())\n",
    "list_of_segments = []\n",
    "for i in range(n):\n",
    "    list_of_segments.append(list(map(int,input().split())))\n",
    "\n",
    "list_of_segments.sort(key=lambda x: x[1])\n",
    "dots = []\n",
    "dots.append( list_of_segments[0][1] )\n",
    "for i in list_of_segments[1:]:\n",
    "    if max(dots) >= i[0] and max(dots) <= i[1]:\n",
    "        pass\n",
    "    else:\n",
    "        dots.append(i[1])\n",
    "print(len(dots))\n",
    "for i in dots:\n",
    "    print(i)"
   ]
  },
  {
   "cell_type": "code",
   "execution_count": null,
   "metadata": {},
   "outputs": [],
   "source": []
  }
 ],
 "metadata": {
  "kernelspec": {
   "display_name": "Python 3",
   "language": "python",
   "name": "python3"
  },
  "language_info": {
   "codemirror_mode": {
    "name": "ipython",
    "version": 3
   },
   "file_extension": ".py",
   "mimetype": "text/x-python",
   "name": "python",
   "nbconvert_exporter": "python",
   "pygments_lexer": "ipython3",
   "version": "3.7.4"
  }
 },
 "nbformat": 4,
 "nbformat_minor": 2
}
