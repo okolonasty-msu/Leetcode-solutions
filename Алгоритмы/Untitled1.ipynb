{
 "cells": [
  {
   "cell_type": "code",
   "execution_count": 5,
   "metadata": {},
   "outputs": [
    {
     "name": "stdout",
     "output_type": "stream",
     "text": [
      "3 1 2 3\n",
      "3 1 2 4\n",
      "1\n",
      "2\n",
      "-1\n"
     ]
    }
   ],
   "source": [
    "array = list(map(int, input().split()))\n",
    "n = array[0]\n",
    "array = array[1:]\n",
    "numbers_to_search = list(map(int, input().split()))\n",
    "k = numbers_to_search[0]\n",
    "numbers_to_search = numbers_to_search[1:]\n",
    "\n",
    "\n",
    "def bin_search(array, k):\n",
    "    l = 0\n",
    "    r = len(array)-1\n",
    "    while l<=r:\n",
    "        m = (l+r)//2\n",
    "        #print(m)\n",
    "        if array[m] == k:\n",
    "            return m+1\n",
    "        elif array[m] > k:\n",
    "            r = m - 1\n",
    "        else:\n",
    "            l = m +1\n",
    "    return -1\n",
    "    \n",
    "\n",
    "for i in numbers_to_search:\n",
    "    print(bin_search(array, i))"
   ]
  },
  {
   "cell_type": "code",
   "execution_count": 18,
   "metadata": {},
   "outputs": [
    {
     "data": {
      "text/plain": [
       "-1"
      ]
     },
     "execution_count": 18,
     "metadata": {},
     "output_type": "execute_result"
    }
   ],
   "source": [
    "def bin_search(array, k):\n",
    "    l = 0\n",
    "    r = n\n",
    "    while l<=r:\n",
    "        m = (l+r)//2\n",
    "        #print(m)\n",
    "        if array[m] == k:\n",
    "            return m+1\n",
    "        elif array[m] > k:\n",
    "            r = m-1\n",
    "        else:\n",
    "            l = m+1\n",
    "    return -1\n",
    "\n",
    "array = [1, 6, 9]\n",
    "k = 5\n",
    "bin_search(array, k)"
   ]
  },
  {
   "cell_type": "code",
   "execution_count": 6,
   "metadata": {},
   "outputs": [],
   "source": [
    "def ps(array):\n",
    "    l = 0\n",
    "    r = n\n",
    "    while l<=r:\n",
    "        m = (l+r)//2\n",
    "        #print(m)\n",
    "        if array[m] == m:\n",
    "            return m\n",
    "        elif array[m] > k:\n",
    "            r = m-1\n",
    "        else:\n",
    "            l = m+1\n",
    "    return -1    \n",
    "    "
   ]
  },
  {
   "cell_type": "code",
   "execution_count": 7,
   "metadata": {},
   "outputs": [
    {
     "data": {
      "text/plain": [
       "1"
      ]
     },
     "execution_count": 7,
     "metadata": {},
     "output_type": "execute_result"
    }
   ],
   "source": [
    "ps([0,1,2])"
   ]
  },
  {
   "cell_type": "code",
   "execution_count": 8,
   "metadata": {},
   "outputs": [
    {
     "data": {
      "text/plain": [
       "-1"
      ]
     },
     "execution_count": 8,
     "metadata": {},
     "output_type": "execute_result"
    }
   ],
   "source": [
    "ps([8,9,20])"
   ]
  },
  {
   "cell_type": "code",
   "execution_count": null,
   "metadata": {},
   "outputs": [],
   "source": [
    "#ЗАДАЧА НА ЧИСЛО ИНВЕРСИЙ"
   ]
  },
  {
   "cell_type": "code",
   "execution_count": 12,
   "metadata": {},
   "outputs": [
    {
     "name": "stdout",
     "output_type": "stream",
     "text": [
      "5\n",
      "1 2 3 4 5\n"
     ]
    }
   ],
   "source": [
    "n = int(input())\n",
    "array = list(map(int, input().split()))\n",
    "\n",
    "def count_invers(array):\n",
    "    tmp = 0\n",
    "    i = 0\n",
    "    j = 0\n",
    "    while i < len(array) and j < len(array):\n",
    "        if array[i] < array[j] and i < j:\n",
    "            tmp += 1\n",
    "            i+=1\n",
    "        else:\n",
    "            i+=1\n",
    "    while i < len(a):\n",
    "        merged.append(a[i])\n",
    "        i += 1\n",
    "    while j < len(b):\n",
    "        merged.append(b[j])\n",
    "        j += 1\n",
    "    return merged"
   ]
  },
  {
   "cell_type": "code",
   "execution_count": 10,
   "metadata": {},
   "outputs": [
    {
     "data": {
      "text/plain": [
       "0"
      ]
     },
     "execution_count": 10,
     "metadata": {},
     "output_type": "execute_result"
    }
   ],
   "source": [
    "count_inv([1,2,3,4])"
   ]
  },
  {
   "cell_type": "code",
   "execution_count": 11,
   "metadata": {},
   "outputs": [
    {
     "data": {
      "text/plain": [
       "1"
      ]
     },
     "execution_count": 11,
     "metadata": {},
     "output_type": "execute_result"
    }
   ],
   "source": [
    "count_inv([2,1,3,4])"
   ]
  },
  {
   "cell_type": "code",
   "execution_count": 14,
   "metadata": {},
   "outputs": [],
   "source": [
    "a = [1,2,3]\n",
    "b = [3,7,9]"
   ]
  },
  {
   "cell_type": "code",
   "execution_count": 97,
   "metadata": {},
   "outputs": [
    {
     "data": {
      "text/plain": [
       "[1, 2, 3, 3, 7, 9]"
      ]
     },
     "execution_count": 97,
     "metadata": {},
     "output_type": "execute_result"
    }
   ],
   "source": [
    "merge(a,b)[0]"
   ]
  },
  {
   "cell_type": "code",
   "execution_count": 165,
   "metadata": {},
   "outputs": [],
   "source": [
    "# пишу про инверсии\n",
    "inverses_list = []\n",
    "\n",
    "def merge(a,b):\n",
    "    \n",
    "    merged = []\n",
    "    i = 0\n",
    "    j = 0\n",
    "    inverses = 0\n",
    "    while i < len(a) and j < len(b):\n",
    "        \n",
    "        if a[i] <= b[j]:\n",
    "            merged.append(a[i])\n",
    "            i+=1\n",
    "        else:\n",
    "            merged.append(b[j])\n",
    "            inverses += len(a) - i + 1\n",
    "            \n",
    "            j+=1\n",
    "    while i < len(a):\n",
    "        merged.append(a[i])\n",
    "        inverses +=1\n",
    "        i += 1\n",
    "    while j < len(b):\n",
    "        merged.append(b[j])\n",
    "        j += 1\n",
    "    \n",
    "    return [merged,inverses]\n",
    "\n",
    "    \n",
    "\n",
    "def merge_sort(array):\n",
    "    if len(array) < 2:\n",
    "        return array\n",
    "    else:\n",
    "        m = (len(array))// 2\n",
    "        return merge(merge_sort(array[:m]), merge_sort(array[m:]))\n",
    "    \n",
    "        \n",
    "        "
   ]
  },
  {
   "cell_type": "code",
   "execution_count": 168,
   "metadata": {},
   "outputs": [
    {
     "data": {
      "text/plain": [
       "[2, 3, 2, 2, 3, 2, 1, 2, 3, 2, 2, 3, 2]"
      ]
     },
     "execution_count": 168,
     "metadata": {},
     "output_type": "execute_result"
    }
   ],
   "source": [
    "inverses_list"
   ]
  },
  {
   "cell_type": "code",
   "execution_count": null,
   "metadata": {},
   "outputs": [],
   "source": []
  },
  {
   "cell_type": "code",
   "execution_count": 167,
   "metadata": {},
   "outputs": [
    {
     "data": {
      "text/plain": [
       "[1, 3, 3, 3, 6, 7]"
      ]
     },
     "execution_count": 167,
     "metadata": {},
     "output_type": "execute_result"
    }
   ],
   "source": [
    "merge_sort([3,3,3,7,6,1])"
   ]
  },
  {
   "cell_type": "code",
   "execution_count": 117,
   "metadata": {},
   "outputs": [],
   "source": [
    "def find_inverses(array):\n",
    "    tmp = 0\n",
    "    if len(array) < 2:\n",
    "        return 0\n",
    "    else:\n",
    "        m = (len(array))// 2\n",
    "        tmp+=1\n",
    "        merge(merge_sort(array[:m]), merge_sort(array[m:]))\n",
    "        \n",
    "    return tmp"
   ]
  },
  {
   "cell_type": "code",
   "execution_count": 86,
   "metadata": {},
   "outputs": [],
   "source": [
    "ar = [4,3, 2, 3, 95, 97, 96]"
   ]
  },
  {
   "cell_type": "code",
   "execution_count": 87,
   "metadata": {},
   "outputs": [
    {
     "data": {
      "text/plain": [
       "1"
      ]
     },
     "execution_count": 87,
     "metadata": {},
     "output_type": "execute_result"
    }
   ],
   "source": [
    "find_inverses(ar)\n",
    "    "
   ]
  },
  {
   "cell_type": "code",
   "execution_count": null,
   "metadata": {},
   "outputs": [],
   "source": []
  }
 ],
 "metadata": {
  "kernelspec": {
   "display_name": "Python 3",
   "language": "python",
   "name": "python3"
  },
  "language_info": {
   "codemirror_mode": {
    "name": "ipython",
    "version": 3
   },
   "file_extension": ".py",
   "mimetype": "text/x-python",
   "name": "python",
   "nbconvert_exporter": "python",
   "pygments_lexer": "ipython3",
   "version": "3.7.4"
  }
 },
 "nbformat": 4,
 "nbformat_minor": 2
}
