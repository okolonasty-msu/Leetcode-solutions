{
 "cells": [
  {
   "cell_type": "code",
   "execution_count": 1,
   "metadata": {},
   "outputs": [],
   "source": [
    "def merge(a,b):\n",
    "    merged = []\n",
    "    i = 0\n",
    "    j = 0\n",
    "    while i < len(a) and j < len(b):\n",
    "        if a[i] < b[j]:\n",
    "            merged.append(a[i])\n",
    "            i+=1\n",
    "        else:\n",
    "            merged.append(b[j])\n",
    "            j+=1\n",
    "    while i < len(a):\n",
    "        merged.append(a[i])\n",
    "        i += 1\n",
    "    while j < len(b):\n",
    "        merged.append(b[j])\n",
    "        j += 1\n",
    "    return merged\n",
    "            \n",
    "    \n",
    "def merge_sort(array):\n",
    "    if len(array) < 2:\n",
    "        return array\n",
    "    else:\n",
    "        m = (len(array))// 2\n",
    "        return merge(merge_sort(array[:m]), merge_sort(array[m:]))\n",
    "        "
   ]
  },
  {
   "cell_type": "code",
   "execution_count": null,
   "metadata": {},
   "outputs": [],
   "source": []
  }
 ],
 "metadata": {
  "kernelspec": {
   "display_name": "Python 3",
   "language": "python",
   "name": "python3"
  },
  "language_info": {
   "codemirror_mode": {
    "name": "ipython",
    "version": 3
   },
   "file_extension": ".py",
   "mimetype": "text/x-python",
   "name": "python",
   "nbconvert_exporter": "python",
   "pygments_lexer": "ipython3",
   "version": "3.7.4"
  }
 },
 "nbformat": 4,
 "nbformat_minor": 2
}
